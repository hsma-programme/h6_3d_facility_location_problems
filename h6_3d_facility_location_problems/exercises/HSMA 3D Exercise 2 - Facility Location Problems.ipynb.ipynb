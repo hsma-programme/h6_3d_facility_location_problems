{
 "cells": [
  {
   "cell_type": "markdown",
   "id": "b07b8431",
   "metadata": {},
   "source": [
    "## Hands on Building of a Geographic Model\n",
    "### Facility Location Problems - Group Exercise\n",
    "\n",
    "Working in your PSGs, use what you have just observed (and learned) to tackle the following case study. In the cells below there will be omissions (denoted with <span style=\"color:red\">**\\*\\***</span>) that need to be completed correctly to move on to the next step.\n",
    "\n",
    "\n",
    "#### Case Study: TIA Clinics in Cornwall\n",
    "\n",
    "Transient Ischaemic Attacks (TIAs) are a minor type of stroke (disruption of blood flow to the brain) where symptoms may last for up to 24 hours. TIAs can be important predictors of major strokes. These can can be fatal or cause substantial disability. Therefore, it is important for patients to have suitable and equitable access to a specialist TIA clinic shortly after their symptoms occur.\n",
    "\n",
    "This case study is set in Cornwall where TIA patients are currently assessed and treated at five clinic locations. Due to funding constraints not all locations are open every day. The locations are:\n",
    "\n",
    "* Royal Cornwall Hospital Trust (RCHT)\n",
    "* Cambourne Redruth Community Hospital (CRCH)\n",
    "* St. Austell Community Hospital (SACH)\n",
    "* Bodmin Community Hospital (BODMIN)\n",
    "* West Cornwall Hospital (WCH)\n",
    "\n",
    "Local NHS commissioners are considering the future of the service. They feel that five clinic locations is leading to variation in the quality of patient treatment and would like to **consolidate to three locations.** \n",
    "\n",
    "*They have asked for our help in making and supporting their decision making.*\n",
    "\n",
    "The data provided comprises of:\n",
    "\n",
    "* *tia_travel_matrix.csv* - Travel time matrix from different locations\n",
    "* *tia_attendances.csv* - Number of TIA clinic attendances per LSOA"
   ]
  },
  {
   "cell_type": "markdown",
   "id": "fbd35012",
   "metadata": {},
   "source": [
    "### Library Imports\n",
    "\n",
    "Do you remember which *standard* libraries were imported during the demonstration? Import them again to complete the rest of this exercise. "
   ]
  },
  {
   "cell_type": "code",
   "execution_count": null,
   "id": "d4a37dda",
   "metadata": {},
   "outputs": [],
   "source": [
    "# update the code below\n",
    "import **\n",
    "import **\n",
    "import **\n",
    "\n",
    "\n",
    "# Additionally, we'll also use....\n",
    "# combinations from the itertools library allows us to enumerate all\n",
    "# solutions (for small instances).\n",
    "from itertools import combinations"
   ]
  },
  {
   "cell_type": "markdown",
   "id": "545609f4",
   "metadata": {},
   "source": [
    "In addition, run the cell below to load in the FacilityLocationObjective class."
   ]
  },
  {
   "cell_type": "code",
   "execution_count": null,
   "id": "8d81297a",
   "metadata": {},
   "outputs": [],
   "source": [
    "# Tweaked WeightedAverageObjective from Metapy package\n",
    "# https://github.com/health-data-science-OR/healthcare-logistics/tree/master/optimisation/metapy\n",
    "# Credit: Tom Monks\n",
    "\n",
    "class FacilityLocationObjective:\n",
    "    '''\n",
    "    Encapsulates logic for calculation of\n",
    "    metrics in a simple facility location problem\n",
    "\n",
    "    Demand and travel matrices must have a common column\n",
    "\n",
    "    demand: pd.dataframe:  Two column dataframe. One column should be labels for the\n",
    "    demand locations (e.g. LSOA identifiers, postcodes). Second column should contain\n",
    "    demand figures of some kind (e.g. number of historical cases)\n",
    "    If demand assumed to be equal, all values in this column could be 1.\n",
    "\n",
    "    travel_matrix: pd.dataframe: dataframe with columns representing sites\n",
    "    and rows representing locations demand will come from.\n",
    "    One column should be labels for the demand locations (e.g. LSOA identifiers, postcodes).\n",
    "    All other values will be either distance or time in float form.\n",
    "    No additional columns of information must be included or they will be used as part of the\n",
    "    calculation of the lowest-cost solution, which may lead to incorrect results.\n",
    "    '''\n",
    "    def __init__(self, demand, travel_matrix, merge_col, demand_col):\n",
    "        '''\n",
    "        Store the demand and travel times\n",
    "\n",
    "        Args:\n",
    "            demand: pd.DataFrame:\n",
    "\n",
    "            travel_matrix: pd.DataFrame:\n",
    "        '''\n",
    "        self.demand = demand.set_index(merge_col)\n",
    "        self.travel_matrix = travel_matrix.set_index(merge_col)\n",
    "        self.demand_col = demand_col\n",
    "\n",
    "\n",
    "    def evaluate_solution(self, site_list):\n",
    "        '''\n",
    "        Calculates the\n",
    "\n",
    "        Args:\n",
    "            site_list: list: column indices of solution to evaluate\n",
    "                            (to apply to travel matrix)\n",
    "\n",
    "            merge_col: str: name of shared column in demand df and travel time\n",
    "                    df that contains labels for areas that can be merged on (e.g. \"lsoa\")\n",
    "\n",
    "            n_patients_or_referrals_col: str: name of column containing numeric data\n",
    "                                            (e.g. \"n_patients\", \"referrals\")\n",
    "\n",
    "        Returns:\n",
    "            Pandas dataframe to pass to evaluation functions\n",
    "\n",
    "        '''\n",
    "\n",
    "        active_facilities = self.travel_matrix.iloc[:, site_list].copy()\n",
    "\n",
    "        # Assume travel to closest facility\n",
    "        # Need to drop the column that contains\n",
    "        active_facilities['min_cost'] = active_facilities.min(axis=1)\n",
    "\n",
    "\n",
    "        # Merge demand and travel times into a single DataFrame\n",
    "        problem = self.demand.merge(active_facilities,\n",
    "                                    left_index=True, right_index=True,\n",
    "                                    how='inner')\n",
    "\n",
    "        return problem.reset_index()\n",
    "\n",
    "\n",
    "    def generate_solution_metrics(self, site_list):\n",
    "        '''\n",
    "        Calculates the weighted average travel time for selected sites\n",
    "\n",
    "        Args:\n",
    "            site_list: list or np.array: A list of site IDs as a list or array (e.g. [0, 3, 4])\n",
    "            merge_col: string: The column name to use for merging the data.\n",
    "            n_patients_or_referrals_col: string: The column name to use for the number of patients or referrals.\n",
    "\n",
    "        Returns:\n",
    "            A tuple containing the problem and the maximum travel time.\n",
    "        '''\n",
    "        problem = self.evaluate_solution(site_list)\n",
    "\n",
    "        # Return weighted average\n",
    "        weighted_average = np.average(problem['min_cost'], weights=problem[self.demand_col])\n",
    "        unweighted_average = np.average(problem['min_cost'])\n",
    "        max_travel = np.max(problem['min_cost'])\n",
    "\n",
    "        return {\n",
    "            'site_indices': site_list,\n",
    "            'site_names': \", \".join(self.travel_matrix.columns[site_list].tolist()),\n",
    "            'weighted_average': weighted_average,\n",
    "            'unweighted_average': unweighted_average,\n",
    "            'max': max_travel,\n",
    "            'problem_df': problem\n",
    "        }"
   ]
  },
  {
   "cell_type": "markdown",
   "id": "7e96615a",
   "metadata": {},
   "source": [
    "### Data Imports\n",
    "<a name=\"data_imports\">\n",
    "   Code to Import Data\n",
    "</a>\n",
    "\n",
    "Now we need to import the travel matrix file named `tia_travel_matrix.csv` and check that the file has been read correctly. Define the index as `sector`"
   ]
  },
  {
   "cell_type": "code",
   "execution_count": null,
   "id": "463fd35f",
   "metadata": {},
   "outputs": [],
   "source": [
    "# your code goes here ...\n",
    "travel_matrix = pd.read_csv('../data/**.csv',\n",
    "                            index_col='sector')\n",
    "travel_matrix.head()"
   ]
  },
  {
   "cell_type": "markdown",
   "id": "34bb6df6",
   "metadata": {},
   "source": [
    "Next, import the number of `tia_attendances.csv` file (in the same location). Again, check it's been read correctly and remember to set the index to `sector`."
   ]
  },
  {
   "cell_type": "code",
   "execution_count": null,
   "id": "e5aa339a",
   "metadata": {},
   "outputs": [],
   "source": [
    "# your code goes here ...\n",
    "attends = pd.read_csv('../data/**.csv',\n",
    "                            index_col='sector')\n",
    "attends.head()"
   ]
  },
  {
   "cell_type": "markdown",
   "id": "8e3a9655",
   "metadata": {},
   "source": [
    "Now we will create our location problem object."
   ]
  },
  {
   "cell_type": "code",
   "execution_count": null,
   "id": "a6809481",
   "metadata": {},
   "outputs": [],
   "source": [
    "facility_location_problem = FacilityLocationObjective(\n",
    "    demand= , ## YOUR CODE HERE\n",
    "    travel_matrix= , ## YOUR CODE HERE\n",
    "    merge_col=\"sector\",\n",
    "    demand_col=\"n_patients\"\n",
    "    )"
   ]
  },
  {
   "cell_type": "markdown",
   "id": "932d71ef",
   "metadata": {},
   "source": [
    "### Constructing and evaluating a Random Solution\n",
    "\n",
    "From the above you'll have seen that you've been provided with a travel matrix containing 5 clinic locations. For this case study, the 'solution' will comprise of 3 proposed clinics.\n",
    "\n",
    "Now it's time to generate a random solution. First, run the code in the cell below to define the random_solution function."
   ]
  },
  {
   "cell_type": "code",
   "execution_count": null,
   "id": "8702e5b5",
   "metadata": {},
   "outputs": [],
   "source": [
    "def random_solution(n_candidates, p, random_seed=None):\n",
    "    '''\n",
    "    Helper function to generate a random solution\n",
    "\n",
    "    Params\n",
    "    ------\n",
    "    n_candidates : int\n",
    "        The number of candidate locations where you could place\n",
    "        clinics (facilities).\n",
    "\n",
    "    p : int\n",
    "        The number of clinics to place.\n",
    "\n",
    "    random_seed : int (Default=None)\n",
    "        Random seed for reproducibility.\n",
    "\n",
    "    Returns\n",
    "    -------\n",
    "\n",
    "    Vector (np.array) of length p\n",
    "    '''\n",
    "    # create a random number generator\n",
    "    rng = np.random.default_rng(seed=random_seed)\n",
    "\n",
    "    # sample without replacement\n",
    "    solution = []\n",
    "    while len(solution) < p:\n",
    "        candidate = rng.integers(0, n_candidates)\n",
    "        if candidate not in solution:\n",
    "            solution.append(candidate)\n",
    "\n",
    "    return np.array(solution)"
   ]
  },
  {
   "cell_type": "markdown",
   "id": "ec598346",
   "metadata": {},
   "source": [
    "Next, fill in the blanks in the use of the function below to generate a single solution"
   ]
  },
  {
   "cell_type": "code",
   "execution_count": null,
   "id": "b90337da",
   "metadata": {},
   "outputs": [],
   "source": [
    "random_solution_1 = random_solution(\n",
    "    n_candidates= , ## YOUR CODE HERE\n",
    "    p= , ## YOUR CODE HERE\n",
    "    random_seed=42\n",
    ")"
   ]
  },
  {
   "cell_type": "markdown",
   "id": "14452207",
   "metadata": {},
   "source": [
    "Now let's evaluate this solution."
   ]
  },
  {
   "cell_type": "code",
   "execution_count": null,
   "id": "23edaaff",
   "metadata": {},
   "outputs": [],
   "source": [
    "facility_location_problem.evaluate_solution(\n",
    "    site_list = ## YOUR CODE HERE\n",
    ")"
   ]
  },
  {
   "cell_type": "markdown",
   "id": "fa946d63",
   "metadata": {},
   "source": [
    "This time, let's return the metrics from this solution."
   ]
  },
  {
   "cell_type": "code",
   "execution_count": null,
   "id": "dfea033f",
   "metadata": {},
   "outputs": [],
   "source": [
    "metrics_random_solution_1 = facility_location_problem.generate_solution_metrics(\n",
    "    site_list = ## YOUR CODE HERE\n",
    ")\n",
    "\n",
    "metrics_random_solution_1"
   ]
  },
  {
   "cell_type": "markdown",
   "id": "c135dea9",
   "metadata": {},
   "source": [
    "Convert this into a dataframe. Is this easier to read?"
   ]
  },
  {
   "cell_type": "code",
   "execution_count": null,
   "id": "8b543513",
   "metadata": {},
   "outputs": [],
   "source": [
    "## YOUR CODE HERE"
   ]
  },
  {
   "cell_type": "markdown",
   "id": "35388a15",
   "metadata": {},
   "source": [
    "### Create all Possible Combinations\n",
    "\n",
    "The `all_combinations` function has been provided below.\n",
    "\n",
    "**Question** Who can remember what a list comprehension is? Where is it used in the function, below?"
   ]
  },
  {
   "cell_type": "code",
   "execution_count": null,
   "id": "5882ae83",
   "metadata": {},
   "outputs": [],
   "source": [
    "def all_combinations(n_facilities, p):\n",
    "    '''\n",
    "    n_facilities : int\n",
    "        The number of candidate locations where you could place facilities (clinics).\n",
    "\n",
    "    p : int\n",
    "        The number of clinics to place.\n",
    "\n",
    "    Returns\n",
    "    -------\n",
    "\n",
    "    Returns all p sized combinations of an array containing\n",
    "    indicies 0 to n_facilties - 1\n",
    "    '''\n",
    "    facility = np.arange(n_facilities, dtype=np.uint8)\n",
    "    return [np.array(a) for a in combinations(facility, p)]"
   ]
  },
  {
   "cell_type": "markdown",
   "id": "64cceab7",
   "metadata": {},
   "source": [
    "Use the function above to print the total number of possible combinations (remember - we're looking for 3 locations from the existing 5 clinics)."
   ]
  },
  {
   "cell_type": "code",
   "execution_count": null,
   "id": "298833f6",
   "metadata": {},
   "outputs": [],
   "source": [
    "# your code goes here ...\n",
    "combinations = ## YOUR CODE HERE\n",
    "print(combinations)\n"
   ]
  },
  {
   "cell_type": "markdown",
   "id": "565095aa",
   "metadata": {},
   "source": [
    "Print the total number of combinations."
   ]
  },
  {
   "cell_type": "code",
   "execution_count": null,
   "id": "3c6d9629",
   "metadata": {},
   "outputs": [],
   "source": [
    "number_of_combinations = ## YOUR CODE HERE\n",
    "\n",
    "print(f\"The total number of combinations is {number_of_combinations}\")"
   ]
  },
  {
   "cell_type": "markdown",
   "id": "1a88bad5",
   "metadata": {},
   "source": [
    "Take a look at one of the combinations. \n",
    "\n",
    "What combination of clinics is propsed in the 5th element of the array of combinations?"
   ]
  },
  {
   "cell_type": "code",
   "execution_count": null,
   "id": "f03d74a3",
   "metadata": {},
   "outputs": [],
   "source": [
    "## YOUR CODE HERE\n",
    "**[4]"
   ]
  },
  {
   "cell_type": "markdown",
   "id": "4928ed4a",
   "metadata": {},
   "source": [
    "### Brute-forcing the solution\n",
    "\n",
    "Assess all of the possible combinations.\n",
    "\n",
    "Make sure you add the output of each round of the loop to the list `results`. This has been set up as an empty list. \n"
   ]
  },
  {
   "cell_type": "code",
   "execution_count": null,
   "id": "087cb1c6",
   "metadata": {},
   "outputs": [],
   "source": [
    "# your code goes here ...\n",
    "results = []\n",
    "\n",
    "for possible_solution in combinations:\n",
    "    **"
   ]
  },
  {
   "cell_type": "markdown",
   "id": "97a10074",
   "metadata": {},
   "source": [
    "Convert `results` into a single dataframe."
   ]
  },
  {
   "cell_type": "code",
   "execution_count": null,
   "id": "fd53f67a",
   "metadata": {},
   "outputs": [],
   "source": [
    "results_df = **"
   ]
  },
  {
   "cell_type": "markdown",
   "id": "03c729a0",
   "metadata": {},
   "source": [
    "Run the code below to print the optimal solution."
   ]
  },
  {
   "cell_type": "code",
   "execution_count": null,
   "id": "8552e480",
   "metadata": {},
   "outputs": [],
   "source": [
    "# your code goes here ...\n",
    "optimal_solution_wa = pd.DataFrame(results_df).sort_values('weighted_average').head(1)['site_names'].values\n",
    "\n",
    "\n",
    "print('The optimal combination of sites'+\\\n",
    "      f' is {optimal_index}')"
   ]
  },
  {
   "cell_type": "markdown",
   "id": "e3682bce",
   "metadata": {},
   "source": [
    "### Graphical Representation of the Results"
   ]
  },
  {
   "cell_type": "markdown",
   "id": "838fb3d1",
   "metadata": {},
   "source": [
    "Generate a bar chart of all possible solution costs.\n",
    "\n",
    "You can choose to use any library you like - the lecture used plotly express, but you could use plotnine, matplotlib, or seaborn if you prefer. \n",
    "\n",
    "Your chart should include the following elements:\n",
    "* All possible clinic combinations represented as bars\n",
    "* Lowest cost solution should be coloured in <span style=\"color: green;\">**green**</span> \n",
    "* Title\n",
    "* x-axis label\n",
    "* y-axis label\n"
   ]
  },
  {
   "cell_type": "code",
   "execution_count": null,
   "id": "ffc0c880",
   "metadata": {
    "scrolled": false
   },
   "outputs": [],
   "source": [
    "# your code goes here ..."
   ]
  },
  {
   "cell_type": "markdown",
   "id": "00a2b8c5",
   "metadata": {},
   "source": [
    "### Visual Display of Travel Times on the Map"
   ]
  },
  {
   "cell_type": "markdown",
   "id": "d787ad8d",
   "metadata": {},
   "source": [
    "Use the files `LSOA_2011_Boundaries_Super_Generalised_Clipped_BSC_EW_V4_-6793269404754981576.geojson` and `tia_sites.csv` to generate a travel time map for the best solution."
   ]
  },
  {
   "cell_type": "code",
   "execution_count": null,
   "id": "957fb397",
   "metadata": {},
   "outputs": [],
   "source": [
    "## YOUR CODE HERE"
   ]
  },
  {
   "cell_type": "markdown",
   "id": "dae8c200",
   "metadata": {},
   "source": [
    "Now try using the subplots feature of matplotlib to create a plot for every possible combination of clinics. \n",
    "\n",
    "Consider the order you might want the plots in.\n",
    "\n",
    "What additional information is it useful to include in the subplot titles?"
   ]
  },
  {
   "cell_type": "code",
   "execution_count": null,
   "id": "ef9d46e9",
   "metadata": {},
   "outputs": [],
   "source": [
    "## YOUR CODE HERE"
   ]
  },
  {
   "cell_type": "markdown",
   "id": "b8f140f4",
   "metadata": {},
   "source": [
    "## Bonus Activities"
   ]
  },
  {
   "cell_type": "markdown",
   "id": "386f5b66",
   "metadata": {},
   "source": [
    "### 1. Calculate the best solution across the weighted average travel times, unweighted average travel times, and the max travel time. \n",
    "\n",
    "How might you rank the outputs?\n",
    "\n",
    "How might you present the results?"
   ]
  },
  {
   "cell_type": "code",
   "execution_count": null,
   "id": "377f2efa",
   "metadata": {},
   "outputs": [],
   "source": [
    "## YOUR CODE HERE"
   ]
  },
  {
   "cell_type": "markdown",
   "id": "7261bf00",
   "metadata": {},
   "source": [
    "### 2. How might you account for LSOAs without any demand?"
   ]
  },
  {
   "cell_type": "markdown",
   "id": "79d51bdc",
   "metadata": {},
   "source": [
    "You may have noticed that some LSOAs appear to have no demand in the time period shown. \n",
    "\n",
    "Think about how this might affect the results. \n",
    "\n",
    "How might you create an additional demand dataframe that ensures every LSOA in Cornwall is included? "
   ]
  },
  {
   "cell_type": "code",
   "execution_count": null,
   "id": "f0394596",
   "metadata": {},
   "outputs": [],
   "source": [
    "## YOUR CODE HERE"
   ]
  },
  {
   "cell_type": "markdown",
   "id": "2befea94",
   "metadata": {},
   "source": [
    "### 3. What's the impact of hospitals across the border?"
   ]
  },
  {
   "cell_type": "markdown",
   "id": "7cce3348",
   "metadata": {},
   "source": [
    "Let's imagine the Derriford hospital in Plymouth - just across the border - can also provide TIA services.\n",
    "\n",
    "Use your routingpy skills from the previous to grab an additional column of travel data.\n",
    "\n",
    "(Note that the existing travel time data is quite old - so they may not be perfectly comparable, but are fine for the purposes of this exercise!)\n",
    "\n",
    "Add this additional data to your existing travel time dataset. \n",
    "\n",
    "Redo the analysis above and compare the outputs. Does adding in Derriford significantly change which clinics we would recommend to keep?"
   ]
  },
  {
   "cell_type": "code",
   "execution_count": null,
   "id": "bcee0354",
   "metadata": {},
   "outputs": [],
   "source": [
    "## YOUR CODE HERE"
   ]
  },
  {
   "cell_type": "markdown",
   "id": "d4bb63f1",
   "metadata": {},
   "source": [
    "To take this even further, switch to keeping 4 clinic open - but one of them will *always* be Derriford. \n",
    "\n",
    "How could you create these combinations? \n",
    "\n",
    "Rerun your analysis."
   ]
  },
  {
   "cell_type": "code",
   "execution_count": null,
   "id": "a245648c",
   "metadata": {},
   "outputs": [],
   "source": [
    "## YOUR CODE HERE"
   ]
  }
 ],
 "metadata": {
  "kernelspec": {
   "display_name": "Python 3 (ipykernel)",
   "language": "python",
   "name": "python3"
  },
  "language_info": {
   "codemirror_mode": {
    "name": "ipython",
    "version": 3
   },
   "file_extension": ".py",
   "mimetype": "text/x-python",
   "name": "python",
   "nbconvert_exporter": "python",
   "pygments_lexer": "ipython3",
   "version": "3.9.16"
  }
 },
 "nbformat": 4,
 "nbformat_minor": 5
}
